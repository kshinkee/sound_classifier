{
 "cells": [
  {
   "cell_type": "markdown",
   "id": "bc0b7ccd-a3eb-4a92-8df7-da1ff49a3665",
   "metadata": {},
   "source": [
    "# SIFT classification experiments"
   ]
  },
  {
   "cell_type": "markdown",
   "id": "5282a23d-0fe0-449e-8dba-f5881075a421",
   "metadata": {},
   "source": [
    "References: <br>"
   ]
  },
  {
   "cell_type": "code",
   "execution_count": null,
   "id": "742891a7-16e2-49d0-b456-842d85c53967",
   "metadata": {},
   "outputs": [],
   "source": [
    "import numpy as np\n",
    "import cv2\n",
    "from sklearn import svm"
   ]
  }
 ],
 "metadata": {
  "kernelspec": {
   "display_name": "Python 3 (ipykernel)",
   "language": "python",
   "name": "python3"
  },
  "language_info": {
   "codemirror_mode": {
    "name": "ipython",
    "version": 3
   },
   "file_extension": ".py",
   "mimetype": "text/x-python",
   "name": "python",
   "nbconvert_exporter": "python",
   "pygments_lexer": "ipython3",
   "version": "3.8.3"
  }
 },
 "nbformat": 4,
 "nbformat_minor": 5
}
