{
 "cells": [
  {
   "cell_type": "markdown",
   "id": "6e610434-f645-4cc8-92e9-0c3a02f11c62",
   "metadata": {},
   "source": [
    "# __Spectrogram wrangling__"
   ]
  },
  {
   "cell_type": "markdown",
   "id": "e12e03b2-ac40-407d-b66c-9dbeb36697fb",
   "metadata": {},
   "source": [
    "Refernces:\n",
    "- Bird songs - pad and resize spectrogram <br>\n",
    "https://www.kaggle.com/code/leirahua/bird-songs-pad-and-resize-spectrogram/notebook <br>\n",
    "- Converting sounds into images: a general guide <br>\n",
    "https://www.kaggle.com/code/rftexas/converting-sounds-into-images-a-general-guide/notebook"
   ]
  },
  {
   "cell_type": "code",
   "execution_count": 1,
   "id": "d5ecc140-0267-4037-bdb9-ebe5e5ec96c5",
   "metadata": {},
   "outputs": [],
   "source": [
    "import numpy as np\n",
    "import pandas as pd\n",
    "import matplotlib.pyplot as plt\n",
    "import os\n",
    "from pathlib import Path"
   ]
  },
  {
   "cell_type": "code",
   "execution_count": 2,
   "id": "e333361c-98e9-46ed-9d36-618428285240",
   "metadata": {},
   "outputs": [],
   "source": [
    "from scipy import signal\n",
    "from scipy.fft import fftshift\n",
    "from scipy.io.wavfile import read"
   ]
  },
  {
   "cell_type": "code",
   "execution_count": 3,
   "id": "2f2ee17a-200b-44b1-8156-02893016e9cf",
   "metadata": {},
   "outputs": [],
   "source": [
    "from skimage.transform import resize\n",
    "from skimage.io import imread"
   ]
  },
  {
   "cell_type": "code",
   "execution_count": 4,
   "id": "695c542d-6ef0-423d-a208-a6181c484aeb",
   "metadata": {},
   "outputs": [],
   "source": [
    "import librosa\n",
    "from librosa.feature import melspectrogram, mfcc"
   ]
  },
  {
   "cell_type": "code",
   "execution_count": 5,
   "id": "c063adf9-1f7c-4d30-be99-e16ecdf6cbdb",
   "metadata": {},
   "outputs": [],
   "source": [
    "import PIL.Image as pimg"
   ]
  },
  {
   "cell_type": "code",
   "execution_count": 7,
   "id": "8782527e-30f0-4f96-866e-678e8f26ab51",
   "metadata": {},
   "outputs": [],
   "source": [
    "from audio_utils import *"
   ]
  },
  {
   "cell_type": "code",
   "execution_count": 8,
   "id": "c99651d4-0452-4f37-a1ad-b276786033ac",
   "metadata": {},
   "outputs": [],
   "source": [
    "Categories=['Cough', 'Sneeze']\n",
    "datadir='data/input/' "
   ]
  },
  {
   "cell_type": "code",
   "execution_count": 9,
   "id": "d892cb65-48a6-49b9-9a5e-bd6547313046",
   "metadata": {},
   "outputs": [],
   "source": [
    "sampling_rate = 44100"
   ]
  },
  {
   "cell_type": "markdown",
   "id": "14c48b7c-d98e-4a0d-afc0-36d2e3e59ae3",
   "metadata": {},
   "source": [
    "## Read files"
   ]
  },
  {
   "cell_type": "code",
   "execution_count": 10,
   "id": "d3b2ad04-1f93-4c81-9f5f-a0331b2a93d3",
   "metadata": {},
   "outputs": [],
   "source": [
    "x_cgh_0, sr_cgh_0 = librosa.load(os.path.join(datadir, Categories[0], 'cough_0001_1.wav'), sr=sampling_rate)\n",
    "x_cgh_1, sr_cgh_1 = librosa.load(os.path.join(datadir, Categories[0], 'cough_0002_1.wav'), sr=sampling_rate)\n",
    "x_snz_0, sr_snz_0 = librosa.load(os.path.join(datadir, Categories[1], 'sneeze_0001.wav'), sr=sampling_rate)\n",
    "x_snz_1, sr_snz_1 = librosa.load(os.path.join(datadir, Categories[1], 'sneeze_0003.wav'), sr=sampling_rate)"
   ]
  },
  {
   "cell_type": "code",
   "execution_count": 11,
   "id": "896debd4-2942-4987-8956-2bf1c2c01081",
   "metadata": {},
   "outputs": [
    {
     "data": {
      "text/plain": [
       "((20607,), (35999,), (26590,), (19800,))"
      ]
     },
     "execution_count": 11,
     "metadata": {},
     "output_type": "execute_result"
    }
   ],
   "source": [
    "x_cgh_0.shape, x_cgh_1.shape, x_snz_0.shape, x_snz_1.shape"
   ]
  },
  {
   "cell_type": "code",
   "execution_count": 13,
   "id": "76d9cde5-908f-4a25-990d-fe6758fbc641",
   "metadata": {},
   "outputs": [
    {
     "data": {
      "text/plain": [
       "numpy.ndarray"
      ]
     },
     "execution_count": 13,
     "metadata": {},
     "output_type": "execute_result"
    }
   ],
   "source": [
    "type(x_cgh_0)"
   ]
  },
  {
   "cell_type": "code",
   "execution_count": 19,
   "id": "0d77d543-588f-44bc-8c15-c8363c4e8f07",
   "metadata": {},
   "outputs": [],
   "source": [
    "def get_spectrogram(filename: str, sampling_rate: int = 44100) -> np.ndarray:\n",
    "    x, _ = librosa.load(filename, sr=sampling_rate)\n",
    "    x_freq = librosa.stft(x)\n",
    "    xdb = librosa.amplitude_to_db(abs(x_freq))\n",
    "    return xdb"
   ]
  },
  {
   "cell_type": "code",
   "execution_count": 20,
   "id": "a7a94e72-f7ad-49d4-8b99-1fd8ad0c3e4e",
   "metadata": {},
   "outputs": [],
   "source": [
    "def get_spectrogram2(x: np.ndarray) -> np.ndarray:\n",
    "    x_freq = librosa.stft(x)\n",
    "    xdb = librosa.amplitude_to_db(abs(x_freq))\n",
    "    return xdb"
   ]
  },
  {
   "cell_type": "code",
   "execution_count": 15,
   "id": "6d05ae94-526c-4429-af77-10b415f9b0c0",
   "metadata": {},
   "outputs": [],
   "source": [
    "spec_cgh_0 = get_spectrogram2(x_cgh_0)"
   ]
  },
  {
   "cell_type": "code",
   "execution_count": 17,
   "id": "59c95bec-72e1-40bc-8bc4-c21a3216e233",
   "metadata": {},
   "outputs": [
    {
     "data": {
      "text/plain": [
       "numpy.ndarray"
      ]
     },
     "execution_count": 17,
     "metadata": {},
     "output_type": "execute_result"
    }
   ],
   "source": [
    "type(spec_cgh_0)"
   ]
  },
  {
   "cell_type": "code",
   "execution_count": 18,
   "id": "59cd315e-332d-4ad8-b421-c4aaae5f0036",
   "metadata": {},
   "outputs": [
    {
     "data": {
      "text/plain": [
       "(1025, 41)"
      ]
     },
     "execution_count": 18,
     "metadata": {},
     "output_type": "execute_result"
    }
   ],
   "source": [
    "spec_cgh_0.shape"
   ]
  },
  {
   "cell_type": "code",
   "execution_count": null,
   "id": "21df8fd8-ebc0-4cae-bad6-fd18a28fc31c",
   "metadata": {},
   "outputs": [],
   "source": []
  }
 ],
 "metadata": {
  "kernelspec": {
   "display_name": "Python 3 (ipykernel)",
   "language": "python",
   "name": "python3"
  },
  "language_info": {
   "codemirror_mode": {
    "name": "ipython",
    "version": 3
   },
   "file_extension": ".py",
   "mimetype": "text/x-python",
   "name": "python",
   "nbconvert_exporter": "python",
   "pygments_lexer": "ipython3",
   "version": "3.8.3"
  }
 },
 "nbformat": 4,
 "nbformat_minor": 5
}
