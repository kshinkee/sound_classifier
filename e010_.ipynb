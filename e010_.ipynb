{
 "cells": [
  {
   "cell_type": "code",
   "execution_count": 1,
   "id": "e318bbc4-0277-4150-9d36-7954ae39a85e",
   "metadata": {},
   "outputs": [],
   "source": [
    "import numpy as np\n",
    "import pandas as pd\n",
    "import matplotlib.pyplot as plt\n",
    "import os\n",
    "from pathlib import Path"
   ]
  },
  {
   "cell_type": "code",
   "execution_count": 2,
   "id": "b3e7b4fc-84de-429f-af19-c2625aeced6e",
   "metadata": {},
   "outputs": [],
   "source": [
    "import librosa\n",
    "import PIL.Image as pimg\n",
    "from pydub import AudioSegment"
   ]
  },
  {
   "cell_type": "code",
   "execution_count": 3,
   "id": "fa2e410e-bc6d-4b8e-b6dd-2f8781d1bef7",
   "metadata": {},
   "outputs": [],
   "source": [
    "from audio_utils import *"
   ]
  },
  {
   "cell_type": "code",
   "execution_count": 4,
   "id": "319c7415-eeb0-4a12-b0da-8fe1029e6507",
   "metadata": {},
   "outputs": [],
   "source": [
    "import cv2"
   ]
  },
  {
   "cell_type": "code",
   "execution_count": 5,
   "id": "eb70a3f2-3222-417b-8a13-21ad9dfba87f",
   "metadata": {},
   "outputs": [],
   "source": [
    "datadir='data/input_from_sspf/' "
   ]
  },
  {
   "cell_type": "code",
   "execution_count": 6,
   "id": "a8e87f6e-49f0-4d77-883c-4aa8d7d0840e",
   "metadata": {},
   "outputs": [],
   "source": [
    "audio_path = os.path.join(datadir, 'cough')"
   ]
  },
  {
   "cell_type": "code",
   "execution_count": 7,
   "id": "3885c062-e8f2-46e8-98a2-4ae4b4373245",
   "metadata": {},
   "outputs": [
    {
     "data": {
      "text/plain": [
       "'data/input_from_sspf/cough'"
      ]
     },
     "execution_count": 7,
     "metadata": {},
     "output_type": "execute_result"
    }
   ],
   "source": [
    "audio_path"
   ]
  },
  {
   "cell_type": "code",
   "execution_count": 73,
   "id": "1291105d-b4be-4153-bd2a-0c46abf6897e",
   "metadata": {},
   "outputs": [],
   "source": [
    "sample_rate = 4410"
   ]
  },
  {
   "cell_type": "code",
   "execution_count": 74,
   "id": "a53e7bdf-686a-429e-8126-7edadfa866f7",
   "metadata": {},
   "outputs": [],
   "source": [
    "x,sr = librosa.load(path=os.path.join(audio_path, '-5dCv5_nvU8_00012_nohash_15.wav'), sr=sample_rate)"
   ]
  },
  {
   "cell_type": "code",
   "execution_count": 75,
   "id": "e6a77490-b879-4a09-baf1-468fe48ad3dc",
   "metadata": {},
   "outputs": [
    {
     "data": {
      "text/plain": [
       "array([ 2.7086398e-05,  3.0908875e-05, -5.3097850e-05, ...,\n",
       "        1.9689836e-04, -4.6079178e-05, -2.4418879e-04], dtype=float32)"
      ]
     },
     "execution_count": 75,
     "metadata": {},
     "output_type": "execute_result"
    }
   ],
   "source": [
    "x"
   ]
  },
  {
   "cell_type": "code",
   "execution_count": 76,
   "id": "e0512155-201f-4d44-aa6b-d60e5a9b998a",
   "metadata": {},
   "outputs": [
    {
     "data": {
      "text/plain": [
       "(4410,)"
      ]
     },
     "execution_count": 76,
     "metadata": {},
     "output_type": "execute_result"
    }
   ],
   "source": [
    "x.shape"
   ]
  },
  {
   "cell_type": "code",
   "execution_count": 32,
   "id": "dfd4eb77-b65d-4210-8212-754abb89726f",
   "metadata": {},
   "outputs": [],
   "source": [
    "x_freq = librosa.stft(y=x, n_fft=512)"
   ]
  },
  {
   "cell_type": "code",
   "execution_count": 33,
   "id": "d64ce1d4-f6b7-4da0-8f8e-f73955e577d8",
   "metadata": {},
   "outputs": [],
   "source": [
    "xdb = librosa.amplitude_to_db(abs(x_freq))"
   ]
  },
  {
   "cell_type": "code",
   "execution_count": null,
   "id": "58c7177b-e379-462e-a4c0-b094eb8d2a8a",
   "metadata": {},
   "outputs": [],
   "source": []
  },
  {
   "cell_type": "code",
   "execution_count": 34,
   "id": "03c6f035-821a-4a45-a883-52ec41579489",
   "metadata": {},
   "outputs": [
    {
     "data": {
      "text/plain": [
       "(257, 173)"
      ]
     },
     "execution_count": 34,
     "metadata": {},
     "output_type": "execute_result"
    }
   ],
   "source": [
    "xdb.shape"
   ]
  },
  {
   "cell_type": "code",
   "execution_count": 37,
   "id": "e90e89e7-b49c-46e2-b34b-f1854af55a50",
   "metadata": {},
   "outputs": [],
   "source": [
    "audio = os.path.join(audio_path, '-5dCv5_nvU8_00012_nohash_15.wav')"
   ]
  },
  {
   "cell_type": "code",
   "execution_count": 59,
   "id": "2a691754-14ca-472b-8aff-7a98b8abf692",
   "metadata": {},
   "outputs": [],
   "source": [
    "# same as above, just changed the y_axis from hz to log in the display func    \n",
    "def convert_audio_to_spectogram_log2(filename: str, sample_rate: int, fft_number: int):\n",
    "    x, sr = librosa.load(filename, sr=sample_rate)\n",
    "    X = librosa.stft(y=x, n_fft=fft_number)\n",
    "    Xdb = librosa.amplitude_to_db(abs(X))\n",
    "    plt.figure(figsize=(10, 5))\n",
    "    p = librosa.display.specshow(Xdb, sr=sr, x_axis='time', y_axis='hz')\n",
    "    plt.colorbar()\n",
    "    return Xdb, p"
   ]
  },
  {
   "cell_type": "code",
   "execution_count": 63,
   "id": "3deed076-a704-4e7e-a1e8-bc5f1f05e202",
   "metadata": {},
   "outputs": [],
   "source": [
    "# same as above, just changed the y_axis from hz to log in the display func    \n",
    "def convert_audio_to_spectogram_log3(filename: str, sample_rate: int, fft_number: int):\n",
    "    x, sr = librosa.load(filename, sr=sample_rate)\n",
    "    X = librosa.stft(y=x, n_fft=fft_number)\n",
    "    Xdb = librosa.amplitude_to_db(abs(X))\n",
    "    plt.figure(figsize=(10, 5))\n",
    "    p = librosa.display.specshow(Xdb, sr=sr)\n",
    "    return Xdb, p"
   ]
  },
  {
   "cell_type": "code",
   "execution_count": 131,
   "id": "23d9cff7-1b33-40e1-b99a-282c99f802c9",
   "metadata": {},
   "outputs": [],
   "source": [
    "sample_rate = 2205"
   ]
  },
  {
   "cell_type": "code",
   "execution_count": 132,
   "id": "a02bd256-2ad5-4fc0-9a7c-8ae588735559",
   "metadata": {},
   "outputs": [],
   "source": [
    "x, sr = librosa.load(audio, sr=sample_rate)"
   ]
  },
  {
   "cell_type": "code",
   "execution_count": 137,
   "id": "09897da2-2e43-47b7-a8c6-cb673ef5c8b7",
   "metadata": {},
   "outputs": [],
   "source": [
    "# X = librosa.feature.melspectrogram(y=x, sr=sample_rate, n_fft=256)\n",
    "X = librosa.stft(y=x, n_fft=128)"
   ]
  },
  {
   "cell_type": "code",
   "execution_count": 138,
   "id": "81da7977-23e5-4bff-a466-4e09f48b0b0c",
   "metadata": {},
   "outputs": [],
   "source": [
    "Xdb = librosa.amplitude_to_db(abs(X))"
   ]
  },
  {
   "cell_type": "code",
   "execution_count": 139,
   "id": "7146a21c-258c-40c8-8cfb-be6679d7098a",
   "metadata": {},
   "outputs": [
    {
     "data": {
      "image/png": "[encoded data removed]",
      "text/plain": [
       "<Figure size 432x288 with 1 Axes>"
      ]
     },
     "metadata": {},
     "output_type": "display_data"
    }
   ],
   "source": [
    "p = librosa.display.specshow(Xdb, sr=sr)"
   ]
  },
  {
   "cell_type": "code",
   "execution_count": 140,
   "id": "8568ff74-8ac3-418e-8ed9-1c57e5675d21",
   "metadata": {},
   "outputs": [
    {
     "data": {
      "text/plain": [
       "(65, 69)"
      ]
     },
     "execution_count": 140,
     "metadata": {},
     "output_type": "execute_result"
    }
   ],
   "source": [
    "Xdb.shape"
   ]
  },
  {
   "cell_type": "code",
   "execution_count": 141,
   "id": "f9dae350-d3c1-42ac-b5d8-8cd7429e87e6",
   "metadata": {},
   "outputs": [],
   "source": [
    "hoge = Xdb.flatten()"
   ]
  },
  {
   "cell_type": "code",
   "execution_count": 142,
   "id": "f70ab81e-7c08-420e-91e6-ba07325b42e4",
   "metadata": {},
   "outputs": [
    {
     "data": {
      "text/plain": [
       "(4485,)"
      ]
     },
     "execution_count": 142,
     "metadata": {},
     "output_type": "execute_result"
    }
   ],
   "source": [
    "hoge.shape"
   ]
  },
  {
   "cell_type": "code",
   "execution_count": 104,
   "id": "1e50c15e-53cb-46de-8852-09fdf00dca6d",
   "metadata": {},
   "outputs": [
    {
     "data": {
      "text/plain": [
       "<matplotlib.collections.QuadMesh at 0x7f7f3fe76070>"
      ]
     },
     "execution_count": 104,
     "metadata": {},
     "output_type": "execute_result"
    }
   ],
   "source": [
    "p"
   ]
  },
  {
   "cell_type": "code",
   "execution_count": 105,
   "id": "4ac7d12f-3ed9-4a9c-96f7-aa2d0c2714df",
   "metadata": {},
   "outputs": [],
   "source": [
    "from PIL import Image as im"
   ]
  },
  {
   "cell_type": "code",
   "execution_count": 50,
   "id": "5983fee6-655d-456f-9e58-8c0d38f60270",
   "metadata": {},
   "outputs": [],
   "source": [
    "# creating image object of\n",
    "# above array\n",
    "data = im.fromarray(Xdb)"
   ]
  },
  {
   "cell_type": "code",
   "execution_count": 47,
   "id": "b8b8b5a4-714e-48cd-8021-7d49b1af2ec1",
   "metadata": {},
   "outputs": [],
   "source": [
    "sift = cv2.SIFT_create()"
   ]
  },
  {
   "cell_type": "code",
   "execution_count": 52,
   "id": "3db3af60-674b-47eb-a012-ae10fcbb3d89",
   "metadata": {},
   "outputs": [
    {
     "ename": "error",
     "evalue": "OpenCV(4.5.5) /Users/runner/work/opencv-python/opencv-python/opencv/modules/features2d/src/sift.dispatch.cpp:477: error: (-5:Bad argument) image is empty or has incorrect depth (!=CV_8U) in function 'detectAndCompute'\n",
     "output_type": "error",
     "traceback": [
      "\u001b[0;31m---------------------------------------------------------------------------\u001b[0m",
      "\u001b[0;31merror\u001b[0m                                     Traceback (most recent call last)",
      "Input \u001b[0;32mIn [52]\u001b[0m, in \u001b[0;36m<cell line: 1>\u001b[0;34m()\u001b[0m\n\u001b[0;32m----> 1\u001b[0m keypoints, descriptors \u001b[38;5;241m=\u001b[39m \u001b[43msift\u001b[49m\u001b[38;5;241;43m.\u001b[39;49m\u001b[43mdetectAndCompute\u001b[49m\u001b[43m(\u001b[49m\u001b[43mXdb\u001b[49m\u001b[43m,\u001b[49m\u001b[43m \u001b[49m\u001b[38;5;28;43;01mNone\u001b[39;49;00m\u001b[43m)\u001b[49m\n\u001b[1;32m      2\u001b[0m img_sift \u001b[38;5;241m=\u001b[39m cv2\u001b[38;5;241m.\u001b[39mdrawKeypoints(img, keypoints, \u001b[38;5;28;01mNone\u001b[39;00m, flags\u001b[38;5;241m=\u001b[39m\u001b[38;5;241m4\u001b[39m)\n",
      "\u001b[0;31merror\u001b[0m: OpenCV(4.5.5) /Users/runner/work/opencv-python/opencv-python/opencv/modules/features2d/src/sift.dispatch.cpp:477: error: (-5:Bad argument) image is empty or has incorrect depth (!=CV_8U) in function 'detectAndCompute'\n"
     ]
    }
   ],
   "source": [
    "keypoints, descriptors = sift.detectAndCompute(Xdb, None)\n",
    "img_sift = cv2.drawKeypoints(img, keypoints, None, flags=4)"
   ]
  },
  {
   "cell_type": "code",
   "execution_count": null,
   "id": "0f6c7411-35d0-48dc-a0a2-b3dc8ca87aad",
   "metadata": {},
   "outputs": [],
   "source": [
    "from PIL import Image as im"
   ]
  }
 ],
 "metadata": {
  "kernelspec": {
   "display_name": "Python 3 (ipykernel)",
   "language": "python",
   "name": "python3"
  },
  "language_info": {
   "codemirror_mode": {
    "name": "ipython",
    "version": 3
   },
   "file_extension": ".py",
   "mimetype": "text/x-python",
   "name": "python",
   "nbconvert_exporter": "python",
   "pygments_lexer": "ipython3",
   "version": "3.8.3"
  }
 },
 "nbformat": 4,
 "nbformat_minor": 5
}
