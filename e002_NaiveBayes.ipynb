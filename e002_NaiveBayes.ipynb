{
 "cells": [
  {
   "cell_type": "markdown",
   "id": "8d69978b-95a8-4451-9d99-7dc4bd43c0a9",
   "metadata": {},
   "source": [
    "# Naive Bayes"
   ]
  },
  {
   "cell_type": "markdown",
   "id": "df9de93f-3729-48dc-8de7-97f4deb00c2c",
   "metadata": {},
   "source": [
    "Reference: <br>\n",
    "- https://machinelearningmastery.com/naive-bayes-classifier-scratch-python/"
   ]
  },
  {
   "cell_type": "code",
   "execution_count": 1,
   "id": "49820fb0-a37f-414f-adcc-194f1ed6c5fa",
   "metadata": {},
   "outputs": [],
   "source": [
    "# Make Predictions with Naive Bayes On The Iris Dataset\n",
    "from csv import reader\n",
    "from math import sqrt\n",
    "from math import exp\n",
    "from math import pi"
   ]
  },
  {
   "cell_type": "code",
   "execution_count": 2,
   "id": "d62f9194-1311-4a58-8fa1-87ea02227161",
   "metadata": {},
   "outputs": [],
   "source": [
    "from naive_bayes_functions import *"
   ]
  },
  {
   "cell_type": "code",
   "execution_count": 3,
   "id": "f9bafc7c-67c1-4d15-8dbc-c2d41eec97b2",
   "metadata": {},
   "outputs": [],
   "source": [
    "# Make a prediction with Naive Bayes on Iris Dataset\n",
    "filename = 'data/input/iris.csv'"
   ]
  },
  {
   "cell_type": "code",
   "execution_count": 11,
   "id": "ce21848c-73e1-4e54-85ac-c5d5254e7def",
   "metadata": {},
   "outputs": [],
   "source": [
    "dataset = load_csv(filename)"
   ]
  },
  {
   "cell_type": "code",
   "execution_count": 5,
   "id": "325e09f4-583d-45fd-a608-a6f43365fc18",
   "metadata": {},
   "outputs": [],
   "source": [
    "for i in range(len(dataset[0])-1):\n",
    "    str_column_to_float(dataset, i)"
   ]
  },
  {
   "cell_type": "code",
   "execution_count": 6,
   "id": "d2c65f77-9736-458a-8670-0ea5c8dde7fa",
   "metadata": {},
   "outputs": [
    {
     "name": "stdout",
     "output_type": "stream",
     "text": [
      "[Iris-virginica] => 0\n",
      "[Iris-setosa] => 1\n",
      "[Iris-versicolor] => 2\n"
     ]
    },
    {
     "data": {
      "text/plain": [
       "{'Iris-virginica': 0, 'Iris-setosa': 1, 'Iris-versicolor': 2}"
      ]
     },
     "execution_count": 6,
     "metadata": {},
     "output_type": "execute_result"
    }
   ],
   "source": [
    "# convert class column to integers\n",
    "str_column_to_int(dataset, len(dataset[0])-1)"
   ]
  },
  {
   "cell_type": "code",
   "execution_count": 7,
   "id": "265d4f99-0f89-4361-8aab-3bff405a4b40",
   "metadata": {},
   "outputs": [],
   "source": [
    "# fit model\n",
    "model = summarize_by_class(dataset)"
   ]
  },
  {
   "cell_type": "code",
   "execution_count": 8,
   "id": "d22f6825-380f-430a-b308-c5b577e083d3",
   "metadata": {},
   "outputs": [],
   "source": [
    "# define a new record\n",
    "row = [5.7,2.9,4.2,1.3]"
   ]
  },
  {
   "cell_type": "code",
   "execution_count": 9,
   "id": "9945214b-789c-4997-89fd-0300740d5938",
   "metadata": {},
   "outputs": [],
   "source": [
    "# predict the label\n",
    "label = predict(model, row)"
   ]
  },
  {
   "cell_type": "code",
   "execution_count": 10,
   "id": "23010463-b992-49ce-96eb-253bb18414b8",
   "metadata": {},
   "outputs": [
    {
     "name": "stdout",
     "output_type": "stream",
     "text": [
      "Data=[5.7, 2.9, 4.2, 1.3], Predicted: 2\n"
     ]
    }
   ],
   "source": [
    "print('Data=%s, Predicted: %s' % (row, label))"
   ]
  },
  {
   "cell_type": "code",
   "execution_count": null,
   "id": "5e7589b3-f571-487c-83a2-b70c30e85686",
   "metadata": {},
   "outputs": [],
   "source": []
  }
 ],
 "metadata": {
  "kernelspec": {
   "display_name": "Python 3",
   "language": "python",
   "name": "python3"
  },
  "language_info": {
   "codemirror_mode": {
    "name": "ipython",
    "version": 3
   },
   "file_extension": ".py",
   "mimetype": "text/x-python",
   "name": "python",
   "nbconvert_exporter": "python",
   "pygments_lexer": "ipython3",
   "version": "3.8.3"
  }
 },
 "nbformat": 4,
 "nbformat_minor": 5
}
