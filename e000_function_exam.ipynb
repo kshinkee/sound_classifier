{
 "cells": [
  {
   "cell_type": "markdown",
   "id": "99425f5e-c25c-48bd-b591-f88f27d25a6d",
   "metadata": {},
   "source": [
    "# __Function examination__"
   ]
  },
  {
   "cell_type": "markdown",
   "id": "7d1e1777-4248-4a2c-a889-9ce99657af8f",
   "metadata": {},
   "source": [
    "References:\n",
    "- https://numpy.org/doc/stable/reference/generated/numpy.pad.html\n",
    "- https://stackoverflow.com/questions/11295609/"
   ]
  },
  {
   "cell_type": "code",
   "execution_count": 8,
   "id": "20b464f9-091f-431e-9e92-e0cd9f03e58f",
   "metadata": {},
   "outputs": [],
   "source": [
    "import numpy as np\n",
    "import pandas as pd\n",
    "from glob import glob"
   ]
  },
  {
   "cell_type": "code",
   "execution_count": 7,
   "id": "29affeae-c72a-49fc-ae52-ea9ae4e35699",
   "metadata": {},
   "outputs": [],
   "source": [
    "from pydub import AudioSegment"
   ]
  },
  {
   "cell_type": "markdown",
   "id": "6cd73c34-cc0b-44e4-9824-9d3f4a5bbbf5",
   "metadata": {},
   "source": [
    "## 1-d array"
   ]
  },
  {
   "cell_type": "code",
   "execution_count": 2,
   "id": "c65ed302-89eb-4b88-a052-a9ef184da471",
   "metadata": {},
   "outputs": [],
   "source": [
    "a = [1, 2, 3, 4, 5]"
   ]
  },
  {
   "cell_type": "code",
   "execution_count": 4,
   "id": "2d3bfae4-b1c3-45d9-be41-7be085aa11e3",
   "metadata": {},
   "outputs": [
    {
     "data": {
      "text/plain": [
       "array([4, 4, 1, 2, 3, 4, 5, 6, 6, 6])"
      ]
     },
     "execution_count": 4,
     "metadata": {},
     "output_type": "execute_result"
    }
   ],
   "source": [
    "np.pad(a, (2, 3), 'constant', constant_values=(4, 6))"
   ]
  },
  {
   "cell_type": "code",
   "execution_count": 3,
   "id": "33fa0c60-e2e2-450f-b8ab-f615c60571f3",
   "metadata": {},
   "outputs": [
    {
     "data": {
      "text/plain": [
       "array([1, 1, 1, 2, 3, 4, 5, 5, 5, 5])"
      ]
     },
     "execution_count": 3,
     "metadata": {},
     "output_type": "execute_result"
    }
   ],
   "source": [
    "np.pad(a, (2, 3), 'edge')"
   ]
  },
  {
   "cell_type": "code",
   "execution_count": 7,
   "id": "33aa546f-4ade-461a-b75a-0356e3820460",
   "metadata": {},
   "outputs": [
    {
     "data": {
      "text/plain": [
       "array([ 5,  3,  1,  2,  3,  4,  5,  2, -1, -4])"
      ]
     },
     "execution_count": 7,
     "metadata": {},
     "output_type": "execute_result"
    }
   ],
   "source": [
    "np.pad(a, (2, 3), 'linear_ramp', end_values=(5, -4))"
   ]
  },
  {
   "cell_type": "code",
   "execution_count": 6,
   "id": "db42ac55-4d48-4c6f-92e9-a12d25c17b57",
   "metadata": {},
   "outputs": [
    {
     "data": {
      "text/plain": [
       "array([5, 5, 1, 2, 3, 4, 5, 5, 5])"
      ]
     },
     "execution_count": 6,
     "metadata": {},
     "output_type": "execute_result"
    }
   ],
   "source": [
    "np.pad(a, (2,), 'maximum')"
   ]
  },
  {
   "cell_type": "code",
   "execution_count": 8,
   "id": "606ffb02-4751-4a7e-8491-5d621a1f331d",
   "metadata": {},
   "outputs": [
    {
     "data": {
      "text/plain": [
       "array([3, 3, 1, 2, 3, 4, 5, 3, 3])"
      ]
     },
     "execution_count": 8,
     "metadata": {},
     "output_type": "execute_result"
    }
   ],
   "source": [
    "np.pad(a, (2,), 'mean')"
   ]
  },
  {
   "cell_type": "code",
   "execution_count": 9,
   "id": "8414062a-ae60-4d5a-a954-d0aa5c8ff9d4",
   "metadata": {},
   "outputs": [
    {
     "data": {
      "text/plain": [
       "array([3, 3, 1, 2, 3, 4, 5, 3, 3])"
      ]
     },
     "execution_count": 9,
     "metadata": {},
     "output_type": "execute_result"
    }
   ],
   "source": [
    "np.pad(a, (2,), 'median')"
   ]
  },
  {
   "cell_type": "code",
   "execution_count": 11,
   "id": "0f3e2040-cb48-461a-835e-7d2739b63d30",
   "metadata": {},
   "outputs": [
    {
     "data": {
      "text/plain": [
       "array([3, 2, 1, 2, 3, 4, 5, 4, 3, 2, 1, 2, 3, 4, 5, 4, 3])"
      ]
     },
     "execution_count": 11,
     "metadata": {},
     "output_type": "execute_result"
    }
   ],
   "source": [
    "np.pad(a, (2, 10), 'reflect')"
   ]
  },
  {
   "cell_type": "code",
   "execution_count": 13,
   "id": "d06472fa-a98f-4f11-b62d-40fd756d931a",
   "metadata": {},
   "outputs": [
    {
     "data": {
      "text/plain": [
       "array([-1,  0,  1,  2,  3,  4,  5,  6,  7,  8,  9, 10, 11, 12, 13, 14, 15])"
      ]
     },
     "execution_count": 13,
     "metadata": {},
     "output_type": "execute_result"
    }
   ],
   "source": [
    "np.pad(a, (2, 10), 'reflect', reflect_type='odd')"
   ]
  },
  {
   "cell_type": "code",
   "execution_count": 14,
   "id": "0b77055d-2163-4c97-9436-daa3ef2e0dec",
   "metadata": {},
   "outputs": [
    {
     "data": {
      "text/plain": [
       "array([2, 1, 1, 2, 3, 4, 5, 5, 4, 3])"
      ]
     },
     "execution_count": 14,
     "metadata": {},
     "output_type": "execute_result"
    }
   ],
   "source": [
    "np.pad(a, (2, 3), 'symmetric')"
   ]
  },
  {
   "cell_type": "code",
   "execution_count": 17,
   "id": "dc0354f4-c6d5-4688-892c-b73d88ab59bd",
   "metadata": {},
   "outputs": [
    {
     "data": {
      "text/plain": [
       "array([ 0,  1,  1,  2,  3,  4,  5,  5,  6,  7,  8,  9,  9, 10, 11, 12, 13,\n",
       "       13])"
      ]
     },
     "execution_count": 17,
     "metadata": {},
     "output_type": "execute_result"
    }
   ],
   "source": [
    "np.pad(a, (2, 11), 'symmetric', reflect_type='odd')"
   ]
  },
  {
   "cell_type": "code",
   "execution_count": 18,
   "id": "3354ba5b-d371-44b9-8f7c-bf3d104ede9f",
   "metadata": {},
   "outputs": [
    {
     "data": {
      "text/plain": [
       "array([4, 5, 1, 2, 3, 4, 5, 1, 2, 3])"
      ]
     },
     "execution_count": 18,
     "metadata": {},
     "output_type": "execute_result"
    }
   ],
   "source": [
    "np.pad(a, (2, 3), 'wrap')"
   ]
  },
  {
   "cell_type": "code",
   "execution_count": null,
   "id": "6026e5a1-7fc7-40bf-9243-6af9b022b522",
   "metadata": {},
   "outputs": [],
   "source": []
  },
  {
   "cell_type": "code",
   "execution_count": null,
   "id": "ea669013-d129-43fd-95df-8c70107a472e",
   "metadata": {},
   "outputs": [],
   "source": []
  },
  {
   "cell_type": "markdown",
   "id": "2fae77d4-4054-49f6-bda8-711620abefba",
   "metadata": {},
   "source": [
    "## 2-d array"
   ]
  },
  {
   "cell_type": "code",
   "execution_count": 76,
   "id": "20bc1138-21c6-438b-be6e-bb7e782bbfd3",
   "metadata": {},
   "outputs": [],
   "source": [
    "a = [[1, 2], [3, 4]]"
   ]
  },
  {
   "cell_type": "code",
   "execution_count": 73,
   "id": "29b086e5-4d99-4d0a-a31f-facc41825be7",
   "metadata": {},
   "outputs": [
    {
     "data": {
      "text/plain": [
       "[[1, 2], [3, 4]]"
      ]
     },
     "execution_count": 73,
     "metadata": {},
     "output_type": "execute_result"
    }
   ],
   "source": [
    "a"
   ]
  },
  {
   "cell_type": "code",
   "execution_count": null,
   "id": "5e054f34-ee98-4c52-97ac-f3cc74baf7a4",
   "metadata": {},
   "outputs": [],
   "source": []
  },
  {
   "cell_type": "code",
   "execution_count": 104,
   "id": "c159fa62-6c47-4eec-ae73-50449520bfb2",
   "metadata": {},
   "outputs": [],
   "source": [
    "hoge = np.pad(a, ((2, 0), (1, 0)), 'constant', constant_values=0)"
   ]
  },
  {
   "cell_type": "code",
   "execution_count": 105,
   "id": "be3dd650-6df0-4369-bc7e-7a622cc2969d",
   "metadata": {},
   "outputs": [
    {
     "data": {
      "text/plain": [
       "array([[0, 0, 0],\n",
       "       [0, 0, 0],\n",
       "       [0, 1, 2],\n",
       "       [0, 3, 4]])"
      ]
     },
     "execution_count": 105,
     "metadata": {},
     "output_type": "execute_result"
    }
   ],
   "source": [
    "hoge"
   ]
  },
  {
   "cell_type": "code",
   "execution_count": 106,
   "id": "637e4c5b-b422-4bb8-8eb2-0af3bb5fd4f2",
   "metadata": {},
   "outputs": [],
   "source": [
    "w, h = hoge.shape"
   ]
  },
  {
   "cell_type": "code",
   "execution_count": 107,
   "id": "f853b8a1-0c30-49d4-8816-e18e3b3f2575",
   "metadata": {},
   "outputs": [
    {
     "data": {
      "text/plain": [
       "4"
      ]
     },
     "execution_count": 107,
     "metadata": {},
     "output_type": "execute_result"
    }
   ],
   "source": [
    "w"
   ]
  },
  {
   "cell_type": "code",
   "execution_count": 38,
   "id": "bca650b9-6424-4d3a-ada3-517b7da64e3a",
   "metadata": {},
   "outputs": [
    {
     "data": {
      "text/plain": [
       "numpy.ndarray"
      ]
     },
     "execution_count": 38,
     "metadata": {},
     "output_type": "execute_result"
    }
   ],
   "source": [
    "type(hoge)"
   ]
  },
  {
   "cell_type": "code",
   "execution_count": 45,
   "id": "f8581c1f-9405-4bcd-9021-0ac4a2c9d3cc",
   "metadata": {},
   "outputs": [],
   "source": [
    "foo = np.array(list())"
   ]
  },
  {
   "cell_type": "code",
   "execution_count": 49,
   "id": "a6ed45dd-227d-4c72-84dd-08ce7cc88ef9",
   "metadata": {},
   "outputs": [
    {
     "data": {
      "text/plain": [
       "0"
      ]
     },
     "execution_count": 49,
     "metadata": {},
     "output_type": "execute_result"
    }
   ],
   "source": [
    "foo.size"
   ]
  },
  {
   "cell_type": "code",
   "execution_count": 50,
   "id": "d3114686-8769-4757-a0e8-87a42f8885c6",
   "metadata": {},
   "outputs": [],
   "source": [
    "bar = np.array(None)"
   ]
  },
  {
   "cell_type": "code",
   "execution_count": 51,
   "id": "8aad9d5f-30a8-4d7a-87ee-68783ba3d7ea",
   "metadata": {},
   "outputs": [
    {
     "data": {
      "text/plain": [
       "1"
      ]
     },
     "execution_count": 51,
     "metadata": {},
     "output_type": "execute_result"
    }
   ],
   "source": [
    "bar.size"
   ]
  },
  {
   "cell_type": "code",
   "execution_count": 56,
   "id": "db18b2c2-e54a-4464-b926-56b10cc81b72",
   "metadata": {},
   "outputs": [],
   "source": [
    "hage = bool(bar.shape and bar.size)"
   ]
  },
  {
   "cell_type": "code",
   "execution_count": 57,
   "id": "0243e39e-1344-49eb-9721-026cab53da22",
   "metadata": {},
   "outputs": [
    {
     "data": {
      "text/plain": [
       "False"
      ]
     },
     "execution_count": 57,
     "metadata": {},
     "output_type": "execute_result"
    }
   ],
   "source": [
    "hage"
   ]
  },
  {
   "cell_type": "code",
   "execution_count": null,
   "id": "b41be363-01d5-4e8a-a64b-9a066d260fcd",
   "metadata": {},
   "outputs": [],
   "source": []
  },
  {
   "cell_type": "code",
   "execution_count": 95,
   "id": "07141cb5-0a4e-4b9e-a436-8313963ec1c1",
   "metadata": {},
   "outputs": [
    {
     "data": {
      "text/plain": [
       "1"
      ]
     },
     "execution_count": 95,
     "metadata": {},
     "output_type": "execute_result"
    }
   ],
   "source": [
    "(5 - 4) % 2 "
   ]
  },
  {
   "cell_type": "code",
   "execution_count": 96,
   "id": "30ba592d-50ac-4712-bff3-4a7471baa379",
   "metadata": {},
   "outputs": [
    {
     "data": {
      "text/plain": [
       "False"
      ]
     },
     "execution_count": 96,
     "metadata": {},
     "output_type": "execute_result"
    }
   ],
   "source": [
    "5 % 2 == 0"
   ]
  },
  {
   "cell_type": "code",
   "execution_count": 103,
   "id": "a715f0be-558e-4bd7-a58c-694da9c03f3e",
   "metadata": {},
   "outputs": [
    {
     "data": {
      "text/plain": [
       "1"
      ]
     },
     "execution_count": 103,
     "metadata": {},
     "output_type": "execute_result"
    }
   ],
   "source": [
    "int (3/2)"
   ]
  },
  {
   "cell_type": "markdown",
   "id": "844bcd05-b67b-46de-b89d-7d3980e5eb8d",
   "metadata": {},
   "source": [
    "## Function example"
   ]
  },
  {
   "cell_type": "code",
   "execution_count": 59,
   "id": "42cebb39-fa86-4c80-94de-61ef6570533c",
   "metadata": {},
   "outputs": [],
   "source": [
    "def has_element(np_array: np.ndarray) -> bool:\n",
    "    return bool(np_array.ndim and np_array.size)"
   ]
  },
  {
   "cell_type": "code",
   "execution_count": 70,
   "id": "70b9406a-5ee0-4481-b90e-729d8ca115a1",
   "metadata": {},
   "outputs": [],
   "source": [
    "def get_min_from_array(np_array: np.ndarray) -> float:\n",
    "    return np_array.flatten().min()"
   ]
  },
  {
   "cell_type": "code",
   "execution_count": 97,
   "id": "95aa425a-61c4-4e90-89bf-a77325cb38a7",
   "metadata": {},
   "outputs": [],
   "source": [
    "def is_even(num: int) -> bool:\n",
    "    return num % 2 == 0"
   ]
  },
  {
   "cell_type": "code",
   "execution_count": 121,
   "id": "b060e54f-dbfe-4662-8e1a-fbbc44d782cc",
   "metadata": {},
   "outputs": [],
   "source": [
    "def pad_spectrogram(np_array: np.ndarray, target_size_w: int = 0, target_size_h: int = 0,\n",
    "                    pad_value: int = -1) -> np.ndarray:\n",
    "    # for safety\n",
    "    if not has_element(np_array):\n",
    "        return np.ndarray(list())\n",
    "    \n",
    "    # flags\n",
    "    do_horizontal_padding = False\n",
    "    do_vertical_padding = False\n",
    "    pad_size_left = pad_size_right = pad_size_top = 0\n",
    "\n",
    "    # obtain & calculate information\n",
    "    arr_height, arr_width = np_array.shape\n",
    "\n",
    "    # calculate padding size\n",
    "    if arr_width < target_size_w:\n",
    "        do_horizontal_padding = True\n",
    "        pad_size_left = int((target_size_w - arr_width) / 2)\n",
    "        pad_size_right = int((target_size_w - arr_width) / 2) \\\n",
    "            if is_even(target_size_w - arr_width) \\\n",
    "            else int((target_size_w - arr_width) / 2) + 1\n",
    "    \n",
    "    if arr_height < target_size_h:\n",
    "        do_vertical_padding = True\n",
    "        pad_size_top = target_size_h - arr_height\n",
    "\n",
    "    # Confirm necessity to execute padding\n",
    "    if not (do_horizontal_padding or do_vertical_padding):\n",
    "        return np_array\n",
    "\n",
    "    # define value to pad a spectrogram\n",
    "    pad_value = pad_value if pad_value >= 0 else get_min_from_array(np_array)\n",
    "\n",
    "    # Pad the array horizontally here\n",
    "    np_array_pad = np.pad(np_array, ((pad_size_top, 0), (pad_size_left, pad_size_right)),\n",
    "                          'constant', constant_values=pad_value)\n",
    "\n",
    "    # Pad the array vertically here\n",
    "    return np_array_pad"
   ]
  },
  {
   "cell_type": "code",
   "execution_count": 122,
   "id": "6cdc866b-44c6-4d32-89f5-01a686aa13ac",
   "metadata": {},
   "outputs": [],
   "source": [
    "a = np.arange(6)\n",
    "a = a.reshape((2, 3))"
   ]
  },
  {
   "cell_type": "code",
   "execution_count": 123,
   "id": "fd3bc112-e147-445d-b209-213d0b38d801",
   "metadata": {},
   "outputs": [
    {
     "data": {
      "text/plain": [
       "(2, 3)"
      ]
     },
     "execution_count": 123,
     "metadata": {},
     "output_type": "execute_result"
    }
   ],
   "source": [
    "a.shape"
   ]
  },
  {
   "cell_type": "code",
   "execution_count": 126,
   "id": "8dd87c49-5c5a-4aa3-bcf9-5a1bd8880b29",
   "metadata": {},
   "outputs": [
    {
     "data": {
      "text/plain": [
       "array([[100, 100, 100, 100, 100],\n",
       "       [100,   0,   1,   2, 100],\n",
       "       [100,   3,   4,   5, 100]])"
      ]
     },
     "execution_count": 126,
     "metadata": {},
     "output_type": "execute_result"
    }
   ],
   "source": [
    "pad_spectrogram(np_array=a, target_size_w=5, target_size_h=3, pad_value=100)"
   ]
  },
  {
   "cell_type": "code",
   "execution_count": null,
   "id": "5c95d15c-56b0-454c-adc4-bf87d2307115",
   "metadata": {},
   "outputs": [],
   "source": []
  },
  {
   "cell_type": "code",
   "execution_count": null,
   "id": "dbafec25-5665-4335-8523-c62e6aa29ff5",
   "metadata": {},
   "outputs": [],
   "source": []
  },
  {
   "cell_type": "code",
   "execution_count": 24,
   "id": "0f2e3885-640f-4666-88fb-afd4c66a8658",
   "metadata": {},
   "outputs": [
    {
     "data": {
      "text/plain": [
       "array([[10, 10, 10, 10, 10, 10, 10],\n",
       "       [10, 10, 10, 10, 10, 10, 10],\n",
       "       [10, 10,  0,  1,  2, 10, 10],\n",
       "       [10, 10,  3,  4,  5, 10, 10],\n",
       "       [10, 10, 10, 10, 10, 10, 10],\n",
       "       [10, 10, 10, 10, 10, 10, 10]])"
      ]
     },
     "execution_count": 24,
     "metadata": {},
     "output_type": "execute_result"
    }
   ],
   "source": [
    "np.pad(a, 2, pad_with)"
   ]
  },
  {
   "cell_type": "code",
   "execution_count": 32,
   "id": "289a553c-c68e-48c2-8e30-93a9f47789eb",
   "metadata": {},
   "outputs": [
    {
     "data": {
      "text/plain": [
       "array([[10, 10, 10, 10, 10, 10, 10],\n",
       "       [10, 10, 10, 10, 10, 10, 10],\n",
       "       [10, 10,  0,  1,  2,  0,  0],\n",
       "       [10, 10,  3,  4,  5,  0,  0],\n",
       "       [10, 10,  0,  0,  0,  0,  0],\n",
       "       [10, 10,  0,  0,  0,  0,  0]])"
      ]
     },
     "execution_count": 32,
     "metadata": {},
     "output_type": "execute_result"
    }
   ],
   "source": [
    "np.pad(a, 2, pad_with_a)"
   ]
  },
  {
   "cell_type": "code",
   "execution_count": null,
   "id": "57d5d942-d95a-47b5-bf30-b9e038e9f4a6",
   "metadata": {},
   "outputs": [],
   "source": []
  },
  {
   "cell_type": "code",
   "execution_count": 25,
   "id": "bd7af49b-3fe9-43ba-8532-4c050e075c29",
   "metadata": {},
   "outputs": [
    {
     "data": {
      "text/plain": [
       "array([[100, 100, 100, 100, 100, 100, 100, 100, 100],\n",
       "       [100, 100, 100, 100, 100, 100, 100, 100, 100],\n",
       "       [100, 100, 100, 100, 100, 100, 100, 100, 100],\n",
       "       [100, 100, 100,   0,   1,   2, 100, 100, 100],\n",
       "       [100, 100, 100,   3,   4,   5, 100, 100, 100],\n",
       "       [100, 100, 100, 100, 100, 100, 100, 100, 100],\n",
       "       [100, 100, 100, 100, 100, 100, 100, 100, 100],\n",
       "       [100, 100, 100, 100, 100, 100, 100, 100, 100]])"
      ]
     },
     "execution_count": 25,
     "metadata": {},
     "output_type": "execute_result"
    }
   ],
   "source": [
    "np.pad(a, 3, pad_with, padder=100)"
   ]
  },
  {
   "cell_type": "code",
   "execution_count": 27,
   "id": "4380785e-fbc3-4498-b419-a9b0abca166b",
   "metadata": {},
   "outputs": [
    {
     "data": {
      "text/plain": [
       "array([[0, 1, 2],\n",
       "       [3, 4, 5]])"
      ]
     },
     "execution_count": 27,
     "metadata": {},
     "output_type": "execute_result"
    }
   ],
   "source": [
    "a"
   ]
  },
  {
   "cell_type": "code",
   "execution_count": 28,
   "id": "66fde42d-1227-4c15-a5f6-364d54aafabc",
   "metadata": {},
   "outputs": [
    {
     "data": {
      "text/plain": [
       "array([0, 1, 2, 3, 4, 5])"
      ]
     },
     "execution_count": 28,
     "metadata": {},
     "output_type": "execute_result"
    }
   ],
   "source": [
    "a.flatten()"
   ]
  },
  {
   "cell_type": "code",
   "execution_count": 29,
   "id": "d4b85b19-6ce8-4adf-b527-f8934b2ee9ab",
   "metadata": {},
   "outputs": [
    {
     "data": {
      "text/plain": [
       "array([[0, 1, 2],\n",
       "       [3, 4, 5]])"
      ]
     },
     "execution_count": 29,
     "metadata": {},
     "output_type": "execute_result"
    }
   ],
   "source": [
    "a"
   ]
  },
  {
   "cell_type": "markdown",
   "id": "57a3d359-0af4-49e0-8b57-5abbd2014a34",
   "metadata": {},
   "source": [
    "## Numpy array concatenation"
   ]
  },
  {
   "cell_type": "code",
   "execution_count": 2,
   "id": "e4fa266c-9833-4336-a58b-a7434c272032",
   "metadata": {},
   "outputs": [],
   "source": [
    "expected_len = 10"
   ]
  },
  {
   "cell_type": "code",
   "execution_count": 3,
   "id": "c82cf4c4-ae3b-4257-b8c7-aca4688e21af",
   "metadata": {},
   "outputs": [],
   "source": [
    "hage = np.array(list(range(6)))"
   ]
  },
  {
   "cell_type": "code",
   "execution_count": 13,
   "id": "83ee77bb-154e-4884-a16a-24818d67b6be",
   "metadata": {},
   "outputs": [
    {
     "data": {
      "text/plain": [
       "array([0, 1, 2])"
      ]
     },
     "execution_count": 13,
     "metadata": {},
     "output_type": "execute_result"
    }
   ],
   "source": [
    "hage[0:3]"
   ]
  },
  {
   "cell_type": "code",
   "execution_count": 5,
   "id": "e291474c-a617-4ea4-b8e7-89a7e6411d80",
   "metadata": {},
   "outputs": [],
   "source": [
    "chibi = np.array(list(range(11,20)))"
   ]
  },
  {
   "cell_type": "code",
   "execution_count": 6,
   "id": "04716ef9-3e65-4fcc-90cb-5c2267b05a6e",
   "metadata": {},
   "outputs": [
    {
     "data": {
      "text/plain": [
       "array([11, 12, 13, 14, 15, 16, 17, 18, 19])"
      ]
     },
     "execution_count": 6,
     "metadata": {},
     "output_type": "execute_result"
    }
   ],
   "source": [
    "chibi"
   ]
  },
  {
   "cell_type": "code",
   "execution_count": 9,
   "id": "4102e843-bbd2-4655-a2e9-929a4228998a",
   "metadata": {},
   "outputs": [],
   "source": [
    "filename = \"aaaa.wav\""
   ]
  },
  {
   "cell_type": "code",
   "execution_count": 10,
   "id": "dab83a4b-067d-4fd9-859c-aa3c38f5f4a9",
   "metadata": {},
   "outputs": [],
   "source": [
    "myaudio = AudioSegment.from_file(filename)"
   ]
  },
  {
   "cell_type": "code",
   "execution_count": 11,
   "id": "9fe89c2b-4be2-4a34-93a5-5c7ce4dfc98d",
   "metadata": {},
   "outputs": [
    {
     "name": "stdout",
     "output_type": "stream",
     "text": [
      "44100\n"
     ]
    }
   ],
   "source": [
    "print(myaudio.frame_rate)"
   ]
  },
  {
   "cell_type": "code",
   "execution_count": 12,
   "id": "f7ba92d6-6086-4947-b4da-18f7f0b535f7",
   "metadata": {},
   "outputs": [
    {
     "data": {
      "text/plain": [
       "3.4399773242630385"
      ]
     },
     "execution_count": 12,
     "metadata": {},
     "output_type": "execute_result"
    }
   ],
   "source": [
    "myaudio.duration_seconds"
   ]
  },
  {
   "cell_type": "code",
   "execution_count": null,
   "id": "44e8fc70-dfa5-4fbd-a2a8-c496e3d375bc",
   "metadata": {},
   "outputs": [],
   "source": []
  }
 ],
 "metadata": {
  "kernelspec": {
   "display_name": "Python 3 (ipykernel)",
   "language": "python",
   "name": "python3"
  },
  "language_info": {
   "codemirror_mode": {
    "name": "ipython",
    "version": 3
   },
   "file_extension": ".py",
   "mimetype": "text/x-python",
   "name": "python",
   "nbconvert_exporter": "python",
   "pygments_lexer": "ipython3",
   "version": "3.8.3"
  }
 },
 "nbformat": 4,
 "nbformat_minor": 5
}
