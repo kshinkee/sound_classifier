{
 "cells": [
  {
   "cell_type": "markdown",
   "id": "1f60a7bd-1bd3-4983-980a-4f55ea6935c0",
   "metadata": {},
   "source": [
    "# __Feature Selection__"
   ]
  },
  {
   "cell_type": "markdown",
   "id": "451e2891-ae34-418b-bd78-bb1911730838",
   "metadata": {},
   "source": [
    "References: <br>\n",
    "- Bird songs - pad and resize spectrogram <br>\n",
    "https://www.kaggle.com/code/leirahua/bird-songs-pad-and-resize-spectrogram/notebook "
   ]
  },
  {
   "cell_type": "code",
   "execution_count": 1,
   "id": "aa838a30-3fdf-4e5e-8227-f256eb77cebd",
   "metadata": {},
   "outputs": [],
   "source": [
    "import numpy as np\n",
    "import pandas as pd\n",
    "import matplotlib.pyplot as plt\n",
    "import os\n",
    "from pathlib import Path"
   ]
  },
  {
   "cell_type": "code",
   "execution_count": 2,
   "id": "b3a2861a-4511-4ed7-a4cd-c985d24c69dd",
   "metadata": {},
   "outputs": [],
   "source": [
    "from scipy import signal\n",
    "from scipy.fft import fftshift\n",
    "from scipy.io.wavfile import read"
   ]
  },
  {
   "cell_type": "code",
   "execution_count": 3,
   "id": "53e6a0bf-1f7f-4289-84d3-4a6148da80d6",
   "metadata": {},
   "outputs": [],
   "source": [
    "from skimage.transform import resize\n",
    "from skimage.io import imread"
   ]
  },
  {
   "cell_type": "code",
   "execution_count": 4,
   "id": "81757e38-cac0-42db-b3d9-ff4eab29de77",
   "metadata": {},
   "outputs": [],
   "source": [
    "from sklearn import svm\n",
    "from sklearn.model_selection import GridSearchCV\n",
    "from sklearn.model_selection import train_test_split\n",
    "from sklearn.metrics import accuracy_score"
   ]
  },
  {
   "cell_type": "code",
   "execution_count": 5,
   "id": "2f054011-7d1a-41bc-b135-033a6f453c90",
   "metadata": {},
   "outputs": [],
   "source": [
    "import librosa\n",
    "from librosa.feature import melspectrogram, mfcc"
   ]
  },
  {
   "cell_type": "code",
   "execution_count": 6,
   "id": "53873072-d7b2-408d-a583-80a3609f764b",
   "metadata": {},
   "outputs": [],
   "source": [
    "from audio_utils import *"
   ]
  },
  {
   "cell_type": "code",
   "execution_count": 30,
   "id": "9c6cc3e2-adc7-4a89-8586-9293b6c3abdc",
   "metadata": {},
   "outputs": [],
   "source": [
    "import PIL.Image as pimg"
   ]
  },
  {
   "cell_type": "code",
   "execution_count": 7,
   "id": "52c77dd1-5d40-4ecc-b4a9-cd87302950b1",
   "metadata": {},
   "outputs": [],
   "source": [
    "Categories=['Cough', 'Sneeze']\n",
    "datadir='data/input/' "
   ]
  },
  {
   "cell_type": "code",
   "execution_count": 8,
   "id": "b500748f-172e-46e7-acd0-002c984b92c6",
   "metadata": {},
   "outputs": [
    {
     "data": {
      "text/plain": [
       "'Cough'"
      ]
     },
     "execution_count": 8,
     "metadata": {},
     "output_type": "execute_result"
    }
   ],
   "source": [
    "Categories[0]"
   ]
  },
  {
   "cell_type": "code",
   "execution_count": 17,
   "id": "5eae00aa-22ab-4e6c-b179-67cabb5e58d4",
   "metadata": {},
   "outputs": [],
   "source": [
    "sampling_rate = 44100"
   ]
  },
  {
   "cell_type": "code",
   "execution_count": 18,
   "id": "da21bde0-0b23-4df2-8a30-acd6bfd7b11b",
   "metadata": {},
   "outputs": [],
   "source": [
    "x_cgh_0, sr_cgh_0 = librosa.load(os.path.join(datadir, Categories[0], 'cough_0001_1.wav'), sr=sampling_rate)\n",
    "x_cgh_1, sr_cgh_1 = librosa.load(os.path.join(datadir, Categories[0], 'cough_0002_1.wav'), sr=sampling_rate)\n",
    "x_snz_0, sr_snz_0 = librosa.load(os.path.join(datadir, Categories[1], 'sneeze_0001.wav'), sr=sampling_rate)\n",
    "x_snz_1, sr_snz_1 = librosa.load(os.path.join(datadir, Categories[1], 'sneeze_0003.wav'), sr=sampling_rate)"
   ]
  },
  {
   "cell_type": "code",
   "execution_count": 19,
   "id": "45c6a973-d558-41e8-a2a3-a483d8d9550a",
   "metadata": {},
   "outputs": [
    {
     "data": {
      "text/plain": [
       "(44100, 44100, 44100, 44100)"
      ]
     },
     "execution_count": 19,
     "metadata": {},
     "output_type": "execute_result"
    }
   ],
   "source": [
    "sr_cgh_0, sr_cgh_1, sr_snz_0, sr_snz_1"
   ]
  },
  {
   "cell_type": "code",
   "execution_count": 20,
   "id": "2d83ce5a-2c0a-4f49-b984-d5bb5f117437",
   "metadata": {},
   "outputs": [
    {
     "data": {
      "text/plain": [
       "1"
      ]
     },
     "execution_count": 20,
     "metadata": {},
     "output_type": "execute_result"
    }
   ],
   "source": [
    "x_cgh_0.ndim"
   ]
  },
  {
   "cell_type": "code",
   "execution_count": null,
   "id": "719985b0-3415-4d1f-a091-b738be7c4bd5",
   "metadata": {},
   "outputs": [],
   "source": []
  },
  {
   "cell_type": "code",
   "execution_count": 29,
   "id": "caf1ebdd-1c67-4e5c-a650-3bb0cb82aafb",
   "metadata": {},
   "outputs": [],
   "source": [
    "def extract_features(filename, sampling_rate=44100):\n",
    "    data, s_rate = librosa.load(filename, sr=sampling_rate)\n",
    "    \n",
    "    # short term fourier transform\n",
    "    stft = np.abs(librosa.stft(data))\n",
    "    \n",
    "    # mfcc (mel-frequency cepstrum)\n",
    "    mfccs = np.mean(librosa.feature.mfcc(y=data, sr=s_rate, n_mfcc=40).T,axis=0)\n",
    "\n",
    "    # chroma\n",
    "    chroma = np.mean(librosa.feature.chroma_stft(S=stft, sr=s_rate).T,axis=0)\n",
    "\n",
    "    # melspectrogram\n",
    "    mel = np.mean(librosa.feature.melspectrogram(y=data, sr=s_rate).T,axis=0)\n",
    "\n",
    "    # spectral contrast\n",
    "    contrast = np.mean(librosa.feature.spectral_contrast(S=stft, sr=s_rate).T,axis=0)\n",
    "\n",
    "    # tonnetz\n",
    "    tonnetz = np.mean(librosa.feature.tonnetz(y=librosa.effects.harmonic(data), sr=s_rate).T,axis=0)\n",
    "    \n",
    "    return mfccs, chroma, mel, contrast, tonnetz"
   ]
  },
  {
   "cell_type": "code",
   "execution_count": 23,
   "id": "7411db66-6c46-4915-8db0-358ff71391a0",
   "metadata": {},
   "outputs": [],
   "source": [
    "# short term fourier transform\n",
    "stft = np.abs(librosa.stft(x_cgh_0))\n",
    "\n",
    "# mfcc (mel-frequency cepstrum)\n",
    "mfccs = np.mean(librosa.feature.mfcc(y=x_cgh_0, sr=sampling_rate, n_mfcc=40).T,axis=0)\n",
    "\n",
    "# chroma\n",
    "chroma = np.mean(librosa.feature.chroma_stft(S=stft, sr=sampling_rate).T,axis=0)\n",
    "\n",
    "# melspectrogram\n",
    "mel = np.mean(librosa.feature.melspectrogram(y=x_cgh_0, sr=sampling_rate).T,axis=0)\n",
    "\n",
    "# spectral contrast\n",
    "contrast = np.mean(librosa.feature.spectral_contrast(S=stft, sr=sampling_rate).T,axis=0)\n",
    "\n",
    "# tonnetz\n",
    "tonnetz = np.mean(librosa.feature.tonnetz(y=librosa.effects.harmonic(x_cgh_0), sr=sampling_rate).T,axis=0)"
   ]
  },
  {
   "cell_type": "code",
   "execution_count": 24,
   "id": "f7401406-feec-416f-a56b-1ae11151ccb6",
   "metadata": {},
   "outputs": [
    {
     "data": {
      "text/plain": [
       "array([[3.2996049e-06, 3.0444819e-05, 2.5469426e-05, ..., 5.1485799e-02,\n",
       "        1.8612771e-01, 5.3048021e-01],\n",
       "       [1.2463125e-05, 3.7660346e-05, 5.4315671e-05, ..., 1.9293189e-01,\n",
       "        4.1957361e-01, 5.5440718e-01],\n",
       "       [1.3319244e-05, 3.4360499e-05, 2.6463593e-05, ..., 2.3372597e-01,\n",
       "        4.3394649e-01, 4.7682282e-01],\n",
       "       ...,\n",
       "       [1.2656720e-03, 2.9768653e-03, 2.2084846e-03, ..., 3.3486017e-03,\n",
       "        2.7631086e-03, 9.0701680e-04],\n",
       "       [8.0661080e-04, 1.8971226e-03, 4.6038260e-03, ..., 1.6320058e-03,\n",
       "        1.7641882e-03, 5.9547788e-04],\n",
       "       [7.8795024e-04, 2.7241088e-03, 6.2575294e-03, ..., 2.3794738e-03,\n",
       "        1.9540647e-03, 8.5947395e-04]], dtype=float32)"
      ]
     },
     "execution_count": 24,
     "metadata": {},
     "output_type": "execute_result"
    }
   ],
   "source": [
    "stft"
   ]
  },
  {
   "cell_type": "code",
   "execution_count": 25,
   "id": "f4374e4f-f768-4df7-8b45-075b0c537bfa",
   "metadata": {},
   "outputs": [
    {
     "data": {
      "text/plain": [
       "array([-4.6589490e+02,  1.4485303e+02, -3.9907974e+01,  4.9108558e+00,\n",
       "       -1.3923359e+01, -8.1866384e-01, -3.3151114e+00, -6.8905773e+00,\n",
       "        1.0387737e+00,  6.7915976e-01,  1.3535534e+01,  6.2752490e+00,\n",
       "        9.0014744e+00, -9.5741719e-01, -5.0450726e+00, -2.0340781e+00,\n",
       "       -2.0237420e-01,  1.5886880e-01, -9.1868095e+00, -2.5505562e+00,\n",
       "        2.2099690e+00, -5.3315139e+00, -6.4374261e+00, -1.8383557e+00,\n",
       "       -2.7426693e+00, -5.0907416e+00,  1.9375498e+00, -2.7557114e-01,\n",
       "        5.5409450e-02, -4.5949354e+00, -1.9091806e+00,  5.0546150e+00,\n",
       "       -2.1549180e+00, -4.4223185e+00, -2.8740797e+00,  2.1490483e+00,\n",
       "        4.3547087e+00,  3.3248465e+00,  5.8356128e+00,  3.7910025e+00],\n",
       "      dtype=float32)"
      ]
     },
     "execution_count": 25,
     "metadata": {},
     "output_type": "execute_result"
    }
   ],
   "source": [
    "mfccs"
   ]
  },
  {
   "cell_type": "code",
   "execution_count": 26,
   "id": "06acc29e-c2c2-431a-b7fc-0c9c52efd97b",
   "metadata": {},
   "outputs": [
    {
     "data": {
      "text/plain": [
       "array([0.51513875, 0.59569013, 0.60699993, 0.6449531 , 0.71443146,\n",
       "       0.68778026, 0.7000103 , 0.6783201 , 0.7618174 , 0.76426876,\n",
       "       0.62942404, 0.49195316], dtype=float32)"
      ]
     },
     "execution_count": 26,
     "metadata": {},
     "output_type": "execute_result"
    }
   ],
   "source": [
    "chroma"
   ]
  },
  {
   "cell_type": "code",
   "execution_count": 27,
   "id": "d64db3ed-c3e2-404a-aaff-4cb67905f6b9",
   "metadata": {},
   "outputs": [
    {
     "data": {
      "text/plain": [
       "array([2.2305558e-02, 4.3397355e-03, 7.9138465e-03, 2.7999159e-02,\n",
       "       7.5627214e-01, 4.6998620e+00, 5.5987663e+00, 3.9556858e-01,\n",
       "       2.9587394e-02, 1.7624086e-02, 2.7630175e-02, 1.3202353e-01,\n",
       "       2.1424103e-01, 1.8107158e-01, 3.2049425e-02, 1.1467484e-02,\n",
       "       2.8949456e-02, 1.0593116e-01, 2.2515263e-01, 8.2295090e-01,\n",
       "       7.7835751e-01, 1.8928555e-01, 2.0323771e-01, 3.0641401e-01,\n",
       "       9.4510454e-01, 8.4187698e-01, 1.1021043e+00, 6.3990128e-01,\n",
       "       5.3945422e-01, 4.0952328e-01, 1.6323711e-01, 1.0968590e-01,\n",
       "       1.1177710e-01, 2.6262501e-01, 2.8281027e-01, 1.5059820e-01,\n",
       "       6.9392994e-02, 4.3608516e-02, 2.6541768e-02, 6.2940128e-02,\n",
       "       1.8925345e-01, 2.3555738e-01, 1.4248748e-01, 6.6932023e-02,\n",
       "       7.5672351e-02, 8.8857688e-02, 7.5292699e-02, 1.2648378e-01,\n",
       "       2.1565741e-01, 1.8842579e-01, 4.4858503e-01, 2.1254627e-01,\n",
       "       7.6738372e-02, 3.1903990e-02, 4.4150155e-02, 4.1014314e-02,\n",
       "       3.2004800e-02, 3.9255925e-02, 5.2212942e-02, 4.3109361e-02,\n",
       "       1.4487303e-02, 1.9201925e-02, 2.3493621e-02, 4.5873266e-02,\n",
       "       6.0906604e-02, 1.4618577e-01, 6.4978905e-02, 1.6605744e-02,\n",
       "       3.8715398e-03, 1.8578807e-03, 5.0844806e-03, 6.0811401e-03,\n",
       "       8.2380250e-03, 1.5503787e-02, 1.1238708e-02, 1.0388451e-02,\n",
       "       4.9926583e-03, 4.0872763e-03, 3.5729397e-03, 3.4813602e-03,\n",
       "       2.7445650e-03, 1.5900222e-03, 1.7929097e-03, 2.1497074e-03,\n",
       "       8.7108865e-04, 8.3076273e-04, 4.7348332e-04, 6.6138274e-04,\n",
       "       6.6201773e-04, 8.8233809e-04, 7.8186858e-04, 5.5693992e-04,\n",
       "       2.2007420e-04, 1.5327780e-04, 2.0268551e-04, 1.0377831e-04,\n",
       "       6.5514083e-05, 8.2732207e-05, 1.6640237e-04, 3.1274158e-04,\n",
       "       2.5816134e-04, 2.0356388e-04, 1.7347329e-04, 5.1826461e-05,\n",
       "       4.2006595e-05, 3.7498932e-05, 2.1164065e-05, 3.3889271e-05,\n",
       "       2.1525306e-05, 6.5134550e-06, 5.0023385e-07, 3.5198346e-07,\n",
       "       2.0486871e-08, 2.0015115e-08, 2.1138808e-08, 2.3503381e-08,\n",
       "       3.3814782e-08, 4.4971756e-08, 5.8859509e-08, 8.5417597e-08,\n",
       "       1.1856351e-07, 1.5120146e-07, 1.6792411e-07, 2.1743867e-07,\n",
       "       2.7231420e-07, 3.0414290e-07, 3.5232546e-07, 3.8108453e-07],\n",
       "      dtype=float32)"
      ]
     },
     "execution_count": 27,
     "metadata": {},
     "output_type": "execute_result"
    }
   ],
   "source": [
    "mel"
   ]
  },
  {
   "cell_type": "code",
   "execution_count": null,
   "id": "47b099a2-addc-450b-85d8-8c36f2025db9",
   "metadata": {},
   "outputs": [],
   "source": []
  }
 ],
 "metadata": {
  "kernelspec": {
   "display_name": "Python 3 (ipykernel)",
   "language": "python",
   "name": "python3"
  },
  "language_info": {
   "codemirror_mode": {
    "name": "ipython",
    "version": 3
   },
   "file_extension": ".py",
   "mimetype": "text/x-python",
   "name": "python",
   "nbconvert_exporter": "python",
   "pygments_lexer": "ipython3",
   "version": "3.8.3"
  }
 },
 "nbformat": 4,
 "nbformat_minor": 5
}
