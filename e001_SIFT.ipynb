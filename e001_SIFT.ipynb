{
 "cells": [
  {
   "cell_type": "markdown",
   "id": "c4427a91-094b-45b0-85e6-eccd7a02cea0",
   "metadata": {},
   "source": [
    "# SIFT experiments"
   ]
  },
  {
   "cell_type": "markdown",
   "id": "b5e98714-a5ac-4e03-bf93-f1fc469cad76",
   "metadata": {},
   "source": [
    "References: <br>\n",
    "- https://github.com/opencv/opencv/issues/16736\n",
    "- https://qiita.com/tatsuya11bbs/items/225634d352de09206a8f\n",
    "- https://docs.opencv.org/4.x/da/df5/tutorial_py_sift_intro.html"
   ]
  },
  {
   "cell_type": "code",
   "execution_count": 1,
   "id": "c4c47ea1-bc2c-40f6-8658-e42386647228",
   "metadata": {},
   "outputs": [],
   "source": [
    "import numpy as np\n",
    "import cv2"
   ]
  },
  {
   "cell_type": "code",
   "execution_count": 14,
   "id": "72aa1aa2-ea36-4632-a7f2-aab939511912",
   "metadata": {},
   "outputs": [],
   "source": [
    "IMAGE_FILE_NAME = 'NEWS000002388301'\n",
    "FILE_EXTENSION = '.jpg'"
   ]
  },
  {
   "cell_type": "code",
   "execution_count": 15,
   "id": "3d2de61d-a949-416f-9866-818b2fb15150",
   "metadata": {},
   "outputs": [],
   "source": [
    "img = cv2.imread(IMAGE_FILE_NAME + FILE_EXTENSION)"
   ]
  },
  {
   "cell_type": "code",
   "execution_count": 16,
   "id": "983a4754-5d30-436d-bed2-fa43dcf5e23e",
   "metadata": {},
   "outputs": [],
   "source": [
    "sift = cv2.SIFT_create()"
   ]
  },
  {
   "cell_type": "code",
   "execution_count": 17,
   "id": "f18955a0-f5bf-45b9-ad7b-f69cc1a658e8",
   "metadata": {},
   "outputs": [],
   "source": [
    "keypoints, descriptors = sift.detectAndCompute(img, None)\n",
    "img_sift = cv2.drawKeypoints(img, keypoints, None, flags=4)"
   ]
  },
  {
   "cell_type": "code",
   "execution_count": 18,
   "id": "66e3bfbe-966e-4f31-9b9e-f42834d242a9",
   "metadata": {},
   "outputs": [
    {
     "data": {
      "text/plain": [
       "True"
      ]
     },
     "execution_count": 18,
     "metadata": {},
     "output_type": "execute_result"
    }
   ],
   "source": [
    "cv2.imwrite('sift_img_' + IMAGE_FILE_NAME + FILE_EXTENSION, img_sift)"
   ]
  },
  {
   "cell_type": "code",
   "execution_count": 20,
   "id": "ad250ceb-a201-4442-9f94-cdde2bb8d977",
   "metadata": {},
   "outputs": [
    {
     "data": {
      "text/plain": [
       "array([[ 33.,   7.,   1., ...,   9.,   8.,  42.],\n",
       "       [  1.,   5.,  26., ...,   1.,   9.,  22.],\n",
       "       [134.,  11.,   0., ...,   0.,   0.,   3.],\n",
       "       ...,\n",
       "       [  0.,   3.,  32., ...,  13.,   8.,  25.],\n",
       "       [ 41.,  19.,   3., ...,   8.,  15.,   1.],\n",
       "       [ 13.,   4.,   1., ...,   4.,  42.,  31.]], dtype=float32)"
      ]
     },
     "execution_count": 20,
     "metadata": {},
     "output_type": "execute_result"
    }
   ],
   "source": [
    "descriptors"
   ]
  },
  {
   "cell_type": "code",
   "execution_count": null,
   "id": "2161f240-c427-458a-8ec2-9e458997b2cf",
   "metadata": {},
   "outputs": [],
   "source": []
  }
 ],
 "metadata": {
  "kernelspec": {
   "display_name": "Python 3 (ipykernel)",
   "language": "python",
   "name": "python3"
  },
  "language_info": {
   "codemirror_mode": {
    "name": "ipython",
    "version": 3
   },
   "file_extension": ".py",
   "mimetype": "text/x-python",
   "name": "python",
   "nbconvert_exporter": "python",
   "pygments_lexer": "ipython3",
   "version": "3.8.3"
  }
 },
 "nbformat": 4,
 "nbformat_minor": 5
}
